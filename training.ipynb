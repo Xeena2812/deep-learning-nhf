{
  "cells": [
    {
      "cell_type": "markdown",
      "metadata": {
        "id": "view-in-github",
        "colab_type": "text"
      },
      "source": [
        "<a href=\"https://colab.research.google.com/github/Xeena2812/deep-learning-nhf/blob/main/training.ipynb\" target=\"_parent\"><img src=\"https://colab.research.google.com/assets/colab-badge.svg\" alt=\"Open In Colab\"/></a>"
      ]
    },
    {
      "cell_type": "code",
      "execution_count": 2,
      "metadata": {
        "id": "8v4580JTFq-3"
      },
      "outputs": [],
      "source": [
        "import image_preprocessing as pre_proc"
      ]
    },
    {
      "cell_type": "markdown",
      "metadata": {
        "id": "qthmwOaVNT_S"
      },
      "source": [
        "# Data preprocessing\n",
        "\n",
        "In this section the data from the ACDC Challenge database is downloaded, extracted and preprocessed to be passed to the network for training. The 4D MRI scans are unrolled into 2D images and padded to be 256 by 256 pixels. Some examples are not fit for preprocessing and they have been thrown away. Then images are downscaled and upsampled to get a 256 by 256 pixels image with a lower resolution."
      ]
    },
    {
      "cell_type": "code",
      "execution_count": 3,
      "metadata": {
        "colab": {
          "base_uri": "https://localhost:8080/"
        },
        "id": "8mThkcAdFq-6",
        "outputId": "4ea60de2-5145-42b1-c52f-94a4d75db6e2"
      },
      "outputs": [
        {
          "output_type": "stream",
          "name": "stderr",
          "text": [
            "/usr/local/lib/python3.7/dist-packages/urllib3/connectionpool.py:847: InsecureRequestWarning: Unverified HTTPS request is being made. Adding certificate verification is strongly advised. See: https://urllib3.readthedocs.io/en/latest/advanced-usage.html#ssl-warnings\n",
            "  InsecureRequestWarning)\n",
            "/usr/local/lib/python3.7/dist-packages/urllib3/connectionpool.py:847: InsecureRequestWarning: Unverified HTTPS request is being made. Adding certificate verification is strongly advised. See: https://urllib3.readthedocs.io/en/latest/advanced-usage.html#ssl-warnings\n",
            "  InsecureRequestWarning)\n",
            "/usr/local/lib/python3.7/dist-packages/urllib3/connectionpool.py:847: InsecureRequestWarning: Unverified HTTPS request is being made. Adding certificate verification is strongly advised. See: https://urllib3.readthedocs.io/en/latest/advanced-usage.html#ssl-warnings\n",
            "  InsecureRequestWarning)\n",
            "/usr/local/lib/python3.7/dist-packages/urllib3/connectionpool.py:847: InsecureRequestWarning: Unverified HTTPS request is being made. Adding certificate verification is strongly advised. See: https://urllib3.readthedocs.io/en/latest/advanced-usage.html#ssl-warnings\n",
            "  InsecureRequestWarning)\n",
            "Downloading...\n",
            "From: https://drive.google.com/u/0/uc?id=1FTUNw1gIYjIphJBfF9p-cAEa2fZVz76G&export=download\n",
            "To: /content/training.zip\n",
            "100%|██████████| 1.63G/1.63G [00:13<00:00, 118MB/s]\n",
            "/usr/local/lib/python3.7/dist-packages/urllib3/connectionpool.py:847: InsecureRequestWarning: Unverified HTTPS request is being made. Adding certificate verification is strongly advised. See: https://urllib3.readthedocs.io/en/latest/advanced-usage.html#ssl-warnings\n",
            "  InsecureRequestWarning)\n",
            "/usr/local/lib/python3.7/dist-packages/urllib3/connectionpool.py:847: InsecureRequestWarning: Unverified HTTPS request is being made. Adding certificate verification is strongly advised. See: https://urllib3.readthedocs.io/en/latest/advanced-usage.html#ssl-warnings\n",
            "  InsecureRequestWarning)\n",
            "/usr/local/lib/python3.7/dist-packages/urllib3/connectionpool.py:847: InsecureRequestWarning: Unverified HTTPS request is being made. Adding certificate verification is strongly advised. See: https://urllib3.readthedocs.io/en/latest/advanced-usage.html#ssl-warnings\n",
            "  InsecureRequestWarning)\n",
            "Downloading...\n",
            "From: https://drive.google.com/uc?id=1GBSeFwhOutknsu8IBqvjcjdXbjNUF1P5&export=download\n",
            "To: /content/testing.zip\n",
            "100%|██████████| 1.60G/1.60G [00:14<00:00, 109MB/s]\n"
          ]
        }
      ],
      "source": [
        "pre_proc.download_db()"
      ]
    },
    {
      "cell_type": "code",
      "execution_count": 4,
      "metadata": {
        "id": "WOnH4RcwFq-7"
      },
      "outputs": [],
      "source": [
        "pre_proc.extract_files()"
      ]
    },
    {
      "cell_type": "code",
      "execution_count": 5,
      "metadata": {
        "colab": {
          "base_uri": "https://localhost:8080/"
        },
        "id": "To-sFXSxFq-7",
        "outputId": "0f730bc2-3938-47cb-b9a9-20f4ae17e03a"
      },
      "outputs": [
        {
          "output_type": "stream",
          "name": "stdout",
          "text": [
            "patient059.nii done\n",
            "patient090.nii done\n",
            "patient044.nii done\n",
            "patient058.nii done\n",
            "patient010.nii done\n",
            "patient086.nii done\n",
            "patient077.nii done\n",
            "patient011.nii done\n",
            "patient102.nii done\n",
            "patient122.nii done\n",
            "patient132.nii done\n",
            "patient008.nii done\n",
            "patient072.nii done\n",
            "patient033.nii done\n",
            "patient120.nii done\n",
            "patient043.nii done\n",
            "patient135.nii done\n",
            "patient098.nii done\n",
            "patient123.nii done\n",
            "patient004.nii done\n",
            "patient009.nii done\n",
            "patient075.nii done\n",
            "patient093.nii done\n",
            "patient021.nii done\n",
            "patient065.nii done\n",
            "patient001.nii done\n",
            "patient074.nii done\n",
            "patient119.nii done\n",
            "patient105.nii done\n",
            "patient149.nii done\n",
            "patient099.nii done\n",
            "patient006.nii done\n",
            "patient036.nii done\n",
            "patient045.nii done\n",
            "patient062.nii done\n",
            "patient018.nii done\n",
            "patient020.nii done\n",
            "patient003.nii done\n",
            "patient047.nii done\n",
            "patient127.nii done\n",
            "patient076.nii done\n",
            "patient121.nii done\n",
            "patient117.nii done\n",
            "patient134.nii done\n",
            "patient023.nii done\n",
            "patient064.nii done\n",
            "patient061.nii done\n",
            "patient124.nii done\n",
            "patient084.nii done\n",
            "patient137.nii done\n",
            "patient031.nii done\n",
            "patient069.nii done\n",
            "patient103.nii done\n",
            "patient005.nii done\n",
            "patient024.nii done\n",
            "patient029.nii done\n",
            "patient053.nii done\n",
            "patient052.nii done\n",
            "patient091.nii done\n",
            "patient071.nii done\n",
            "patient056.nii done\n",
            "patient088.nii done\n",
            "patient070.nii done\n",
            "patient014.nii done\n",
            "patient079.nii done\n",
            "patient095.nii done\n",
            "patient114.nii done\n",
            "patient130.nii done\n",
            "patient150.nii done\n",
            "patient034.nii done\n",
            "patient032.nii done\n",
            "patient140.nii done\n",
            "patient097.nii done\n",
            "patient125.nii done\n",
            "patient106.nii done\n",
            "patient060.nii done\n",
            "patient142.nii done\n",
            "patient030.nii done\n",
            "patient035.nii done\n",
            "patient051.nii done\n",
            "patient078.nii done\n",
            "patient022.nii done\n",
            "patient025.nii done\n",
            "patient048.nii done\n",
            "patient007.nii done\n",
            "patient116.nii done\n",
            "patient146.nii done\n",
            "patient019.nii done\n",
            "patient028.nii done\n",
            "patient092.nii done\n",
            "patient111.nii done\n",
            "patient012.nii done\n",
            "patient129.nii done\n",
            "patient041.nii done\n",
            "patient096.nii done\n",
            "patient081.nii done\n",
            "patient037.nii done\n",
            "patient144.nii done\n",
            "patient115.nii done\n",
            "patient131.nii done\n",
            "patient068.nii done\n",
            "patient055.nii done\n",
            "patient145.nii done\n",
            "patient015.nii done\n",
            "patient141.nii done\n",
            "patient108.nii done\n",
            "patient139.nii done\n",
            "patient113.nii done\n",
            "patient083.nii done\n",
            "patient013.nii done\n",
            "patient066.nii done\n",
            "patient128.nii done\n",
            "patient063.nii done\n",
            "patient136.nii done\n",
            "patient107.nii done\n",
            "patient112.nii done\n",
            "patient118.nii done\n",
            "patient040.nii done\n",
            "patient042.nii done\n",
            "patient087.nii done\n",
            "patient101.nii done\n",
            "patient054.nii done\n",
            "patient082.nii done\n",
            "patient080.nii done\n",
            "patient067.nii done\n",
            "patient073.nii done\n",
            "patient110.nii done\n",
            "patient046.nii done\n",
            "patient104.nii done\n",
            "patient148.nii done\n",
            "patient016.nii done\n",
            "patient143.nii done\n",
            "patient039.nii done\n",
            "patient002.nii done\n",
            "patient109.nii done\n",
            "patient126.nii done\n",
            "patient027.nii done\n",
            "patient094.nii done\n",
            "patient050.nii done\n",
            "patient133.nii done\n",
            "patient049.nii done\n",
            "patient138.nii done\n",
            "patient026.nii done\n",
            "patient017.nii done\n"
          ]
        }
      ],
      "source": [
        "pre_proc.unroll_scale_images()"
      ]
    },
    {
      "cell_type": "markdown",
      "metadata": {
        "id": "Lz1cDbGDNT_W"
      },
      "source": [
        "An example with the result of the downscaling on the rgith and the original image on the left."
      ]
    },
    {
      "cell_type": "code",
      "execution_count": 6,
      "metadata": {
        "colab": {
          "base_uri": "https://localhost:8080/",
          "height": 204
        },
        "id": "vPGNyNPIFq-9",
        "outputId": "9733eb16-9736-4595-d9d1-470239a1ea29"
      },
      "outputs": [
        {
          "output_type": "display_data",
          "data": {
            "text/plain": [
              "<Figure size 432x288 with 2 Axes>"
            ],
            "image/png": "[encoded data removed]"
          },
          "metadata": {
            "needs_background": "light"
          }
        }
      ],
      "source": [
        "pre_proc.show_example_images()"
      ]
    },
    {
      "cell_type": "markdown",
      "metadata": {
        "id": "O-adzX-rNT_W"
      },
      "source": [
        "# Network Structure\n",
        "\n",
        "For training we used a GAN model, where there are 2 network that work against each other. A generator network tries to generate super resolution (SR) images from the low resolution (LR) images. The other network the Discriminator network tries to differentiate between original high resolution (HR) and SR images. The  discriminator network forces the generator network to create more and more accurate SR images until it can not tell the difference anymore."
      ]
    },
    {
      "cell_type": "markdown",
      "metadata": {
        "id": "5ZwRIl4HNT_X"
      },
      "source": [
        "## The Generator Network\n",
        "\n",
        "The generator network consists of convolutional layers followed by some dense layers. Skip connections help the network learn features from different scales. At this point the network structure is only for demonstration and will change a lot in the future."
      ]
    },
    {
      "cell_type": "code",
      "execution_count": 7,
      "metadata": {
        "id": "1xVFyn4wEv6V"
      },
      "outputs": [],
      "source": [
        "import glob\n",
        "import imageio\n",
        "import matplotlib.pyplot as plt\n",
        "import numpy as np\n",
        "import os\n",
        "import PIL\n",
        "from tensorflow.keras import Sequential\n",
        "from tensorflow.keras import layers\n",
        "import time\n",
        "import tensorflow as tf\n",
        "import keras\n",
        "from keras.models import Model\n",
        "\n",
        "def make_generator_model():\n",
        "    skip=[]\n",
        "\n",
        "    input=layers.Input(shape=(64*64,))\n",
        "    x=layers.Reshape((64,64,1,))(input)\n",
        "    x=layers.Conv2D(32,(4,4),strides=4,padding='same')(x)\n",
        "\n",
        "    y=x\n",
        "    skip.append(x)\n",
        "\n",
        "    x=layers.BatchNormalization(axis=1)(x)\n",
        "    x = layers.Activation('relu')(x)\n",
        "    x=layers.Conv2D(16,(3,3),strides=1,padding='same')(x)\n",
        "    skip.append(x)\n",
        "\n",
        "    x=layers.Concatenate(axis=3)(skip)\n",
        "\n",
        "    x=layers.BatchNormalization(axis=1)(x)\n",
        "    x = layers.Activation('relu')(x)\n",
        "    x=layers.Conv2D(16,(3,3),strides=1,padding='same')(x)\n",
        "    skip.append(x)\n",
        "\n",
        "    x=layers.Concatenate(axis=3)(skip)\n",
        "\n",
        "    x=layers.BatchNormalization(axis=1)(x)\n",
        "    x = layers.Activation('relu')(x)\n",
        "    x=layers.Conv2D(16,(3,3),strides=1,padding='same')(x)\n",
        "    skip.append(x)\n",
        "\n",
        "    x=layers.Concatenate(axis=3)(skip)\n",
        "\n",
        "    x=layers.BatchNormalization(axis=1)(x)\n",
        "    x = layers.Activation('relu')(x)\n",
        "    x=layers.Conv2D(16,(3,3),strides=1,padding='same')(x)\n",
        "    skip.append(x)\n",
        "\n",
        "    x=layers.Concatenate(axis=3)(skip)\n",
        "    x=layers.Concatenate(axis=3)([x,y])\n",
        "    x=layers.Dense(16)(x)\n",
        "    x=layers.Reshape((64,64,1))(x)\n",
        "\n",
        "    asd = Model(inputs=input, outputs=x)\n",
        "    return asd"
      ]
    },
    {
      "cell_type": "markdown",
      "metadata": {
        "id": "luNhghEqNT_Y"
      },
      "source": [
        "## The Discriminator Network\n",
        "\n",
        "The discriminator network is a convolutional network which will also change a lot in the future. To help the problem of vanishing gradient which occurs with many networks with many parameters we use dropout layers. The network outputs a positive number if it thinks the input iamge is real and a negative if it thinks it's fake."
      ]
    },
    {
      "cell_type": "code",
      "execution_count": 8,
      "metadata": {
        "id": "dximK4jjy27I"
      },
      "outputs": [],
      "source": [
        "def make_discriminator_model():\n",
        "    model = tf.keras.Sequential()\n",
        "    model.add(layers.Conv2D(64, (3, 3), strides=1, padding='same',\n",
        "                                     input_shape=[64, 64, 1]))\n",
        "    model.add(layers.LeakyReLU())\n",
        "    model.add(layers.Dropout(0.3))\n",
        "\n",
        "    model.add(layers.Conv2D(64, (5, 5), strides=2, padding='same'))\n",
        "    model.add(layers.LayerNormalization(axis=1))\n",
        "    model.add(layers.LeakyReLU())\n",
        "    model.add(layers.Dropout(0.3))\n",
        "\n",
        "    model.add(layers.Conv2D(128, (3, 3), strides=1, padding='same'))\n",
        "    model.add(layers.LayerNormalization(axis=1))\n",
        "    model.add(layers.LeakyReLU())\n",
        "    model.add(layers.Dropout(0.3))\n",
        "\n",
        "    model.add(layers.Conv2D(128, (5, 5), strides=2, padding='same'))\n",
        "    model.add(layers.LayerNormalization(axis=1))\n",
        "    model.add(layers.LeakyReLU())\n",
        "    model.add(layers.Dropout(0.3))\n",
        "\n",
        "    model.add(layers.Conv2D(256, (3, 3), strides=1, padding='same'))\n",
        "    model.add(layers.LayerNormalization(axis=1))\n",
        "    model.add(layers.LeakyReLU())\n",
        "    model.add(layers.Dropout(0.3))\n",
        "\n",
        "    model.add(layers.Conv2D(256, (5, 5), strides=2, padding='same'))\n",
        "    model.add(layers.LayerNormalization(axis=1))\n",
        "    model.add(layers.LeakyReLU())\n",
        "    model.add(layers.Dropout(0.3))\n",
        "\n",
        "    model.add(layers.Conv2D(512, (3, 3), strides=1, padding='same'))\n",
        "    model.add(layers.LayerNormalization(axis=1))\n",
        "    model.add(layers.LeakyReLU())\n",
        "    model.add(layers.Dropout(0.3))\n",
        "\n",
        "    model.add(layers.Conv2D(512, (5, 5), strides=2, padding='same'))\n",
        "    model.add(layers.LayerNormalization(axis=1))\n",
        "    model.add(layers.LeakyReLU())\n",
        "    model.add(layers.Dropout(0.3))\n",
        "\n",
        "    model.add(layers.Flatten())\n",
        "    model.add(layers.Dense(1))\n",
        "\n",
        "    return model"
      ]
    },
    {
      "cell_type": "markdown",
      "metadata": {
        "id": "PrphiH8UNT_Z"
      },
      "source": [
        "## Evaluation\n",
        "\n",
        "The discriminator's loss funtion is based on how well it can tell that the real image is real and how well it can tell that the fake image is fake. Because these 2 networks work against each other we can measure the success of the generator network by how well it fooled the discriminator network."
      ]
    },
    {
      "cell_type": "code",
      "execution_count": 9,
      "metadata": {
        "id": "GgoyuTvbzIzQ"
      },
      "outputs": [],
      "source": [
        "cross_entropy = tf.keras.losses.BinaryCrossentropy(from_logits=True)\n",
        "def discriminator_loss(real_output, fake_output):\n",
        "    real_loss = cross_entropy(tf.ones_like(real_output), real_output)\n",
        "    fake_loss = cross_entropy(tf.zeros_like(fake_output), fake_output)\n",
        "    total_loss = real_loss + fake_loss\n",
        "    return total_loss\n",
        "\n",
        "def generator_loss(fake_output):\n",
        "    return cross_entropy(tf.ones_like(fake_output), fake_output)\n",
        "\n",
        "generator_optimizer = tf.keras.optimizers.Adam(1e-4)\n",
        "discriminator_optimizer = tf.keras.optimizers.Adam(1e-4)"
      ]
    },
    {
      "cell_type": "code",
      "execution_count": 11,
      "metadata": {
        "id": "W8ajZ0ow-0lF"
      },
      "outputs": [],
      "source": [
        "generator = make_generator_model()\n",
        "discriminator = make_discriminator_model()"
      ]
    },
    {
      "cell_type": "code",
      "execution_count": 12,
      "metadata": {
        "id": "CxjOhKm9Nc_9"
      },
      "outputs": [],
      "source": [
        "checkpoint_dir = './training_checkpoints'\n",
        "checkpoint_prefix = os.path.join(checkpoint_dir, \"ckpt\")\n",
        "checkpoint = tf.train.Checkpoint(generator_optimizer=generator_optimizer,\n",
        "                                 discriminator_optimizer=discriminator_optimizer,\n",
        "                                 generator=generator,\n",
        "                                 discriminator=discriminator)"
      ]
    },
    {
      "cell_type": "code",
      "execution_count": 91,
      "metadata": {
        "id": "oIgQAq4jsdHr"
      },
      "outputs": [],
      "source": [
        "def train_generator(generator, X, Y, X_valid, Y_valid, learning_rate, batch_size, epochs):\n",
        "  generator.compile(loss=tf.keras.losses.MeanSquaredError(),optimizer=keras.optimizers.Adam(lr=learning_rate),metrics=['accuracy'])\n",
        "  generator.fit(X,Y,batch_size=batch_size,epochs=epochs,verbose=2,validation_data=(X_valid,Y_valid),shuffle= True)"
      ]
    },
    {
      "cell_type": "code",
      "execution_count": 92,
      "metadata": {
        "id": "oHhT8pRcwiNU"
      },
      "outputs": [],
      "source": [
        "from numpy.lib.shape_base import split\n",
        "dataset_size=500\n",
        "train_split=0.7\n",
        "valid_split=0.2\n",
        "test_split=0.1\n",
        "\n",
        "X_train, Y_train, X_valid, Y_valid, X_test, Y_test = pre_proc.load_and_transform_data(train_split, valid_split,test_split , dataset_size)\n",
        "\n",
        "EPOCHS = 1\n",
        "noise_dim = 64*64\n",
        "num_examples_to_generate = 1000\n",
        "BUFFER_SIZE = 600000\n",
        "BATCH_SIZE = 2\n",
        "\n",
        "# You will reuse this seed overtime (so it's easier)\n",
        "# to visualize progress in the animated GIF)\n",
        "seed = tf.random.normal([num_examples_to_generate, noise_dim])\n",
        "\n",
        "X_valid=np.reshape(np.asarray(X_valid)[:,:64,:64],(int(dataset_size*valid_split),4096))\n",
        "Y_valid=np.asarray(Y_valid)\n",
        "Y_valid=Y_valid.reshape((int(dataset_size*valid_split),256,256))\n",
        "Y_valid=np.reshape(np.asarray(Y_valid)[:,:64,:64],(int(dataset_size*valid_split),64,64))\n",
        "Y_train=Y_train.reshape((int(dataset_size*train_split),256,256))\n",
        "y=np.reshape(Y_train[:,:64,:64],(int(dataset_size*train_split),64,64))\n",
        "x=np.reshape(X_train[:,:64,:64],(int(dataset_size*train_split),4096))"
      ]
    },
    {
      "cell_type": "markdown",
      "metadata": {
        "id": "ehWhkrCTNT_c"
      },
      "source": [
        "First we only train the generator to try to generate SR images. Training is only done on one 64 by 64 patch as demonstration."
      ]
    },
    {
      "cell_type": "code",
      "execution_count": 93,
      "metadata": {
        "colab": {
          "base_uri": "https://localhost:8080/",
          "height": 1000
        },
        "id": "8WANK7m_wDm6",
        "outputId": "77482485-c90a-4e57-93cd-e0248725394e"
      },
      "outputs": [
        {
          "output_type": "stream",
          "name": "stdout",
          "text": [
            "Epoch 1/150\n"
          ]
        },
        {
          "output_type": "stream",
          "name": "stderr",
          "text": [
            "/usr/local/lib/python3.7/dist-packages/keras/optimizers/optimizer_v2/adam.py:110: UserWarning: The `lr` argument is deprecated, use `learning_rate` instead.\n",
            "  super(Adam, self).__init__(name, **kwargs)\n"
          ]
        },
        {
          "output_type": "stream",
          "name": "stdout",
          "text": [
            "35/35 - 4s - loss: 0.2523 - accuracy: 0.4186 - val_loss: 0.0888 - val_accuracy: 0.4216 - 4s/epoch - 107ms/step\n",
            "Epoch 2/150\n",
            "35/35 - 2s - loss: 0.0795 - accuracy: 0.4139 - val_loss: 0.0559 - val_accuracy: 0.4232 - 2s/epoch - 64ms/step\n",
            "Epoch 3/150\n",
            "35/35 - 2s - loss: 0.0569 - accuracy: 0.4176 - val_loss: 0.0424 - val_accuracy: 0.4240 - 2s/epoch - 64ms/step\n",
            "Epoch 4/150\n",
            "35/35 - 2s - loss: 0.0443 - accuracy: 0.4190 - val_loss: 0.0352 - val_accuracy: 0.4245 - 2s/epoch - 64ms/step\n",
            "Epoch 5/150\n",
            "35/35 - 2s - loss: 0.0374 - accuracy: 0.4199 - val_loss: 0.0300 - val_accuracy: 0.4252 - 2s/epoch - 63ms/step\n",
            "Epoch 6/150\n",
            "35/35 - 2s - loss: 0.0316 - accuracy: 0.4209 - val_loss: 0.0264 - val_accuracy: 0.4256 - 2s/epoch - 63ms/step\n",
            "Epoch 7/150\n",
            "35/35 - 2s - loss: 0.0275 - accuracy: 0.4213 - val_loss: 0.0234 - val_accuracy: 0.4260 - 2s/epoch - 64ms/step\n",
            "Epoch 8/150\n",
            "35/35 - 2s - loss: 0.0248 - accuracy: 0.4217 - val_loss: 0.0214 - val_accuracy: 0.4262 - 2s/epoch - 64ms/step\n",
            "Epoch 9/150\n",
            "35/35 - 2s - loss: 0.0229 - accuracy: 0.4220 - val_loss: 0.0195 - val_accuracy: 0.4266 - 2s/epoch - 64ms/step\n",
            "Epoch 10/150\n",
            "35/35 - 2s - loss: 0.0208 - accuracy: 0.4223 - val_loss: 0.0179 - val_accuracy: 0.4267 - 2s/epoch - 64ms/step\n",
            "Epoch 11/150\n",
            "35/35 - 2s - loss: 0.0194 - accuracy: 0.4225 - val_loss: 0.0165 - val_accuracy: 0.4270 - 2s/epoch - 64ms/step\n",
            "Epoch 12/150\n",
            "35/35 - 2s - loss: 0.0178 - accuracy: 0.4227 - val_loss: 0.0155 - val_accuracy: 0.4272 - 2s/epoch - 66ms/step\n",
            "Epoch 13/150\n",
            "35/35 - 2s - loss: 0.0169 - accuracy: 0.4229 - val_loss: 0.0145 - val_accuracy: 0.4272 - 2s/epoch - 65ms/step\n",
            "Epoch 14/150\n",
            "35/35 - 2s - loss: 0.0160 - accuracy: 0.4231 - val_loss: 0.0138 - val_accuracy: 0.4273 - 2s/epoch - 65ms/step\n",
            "Epoch 15/150\n",
            "35/35 - 2s - loss: 0.0153 - accuracy: 0.4232 - val_loss: 0.0129 - val_accuracy: 0.4275 - 2s/epoch - 70ms/step\n",
            "Epoch 16/150\n",
            "35/35 - 3s - loss: 0.0146 - accuracy: 0.4233 - val_loss: 0.0123 - val_accuracy: 0.4275 - 3s/epoch - 97ms/step\n",
            "Epoch 17/150\n",
            "35/35 - 2s - loss: 0.0136 - accuracy: 0.4236 - val_loss: 0.0117 - val_accuracy: 0.4276 - 2s/epoch - 64ms/step\n",
            "Epoch 18/150\n",
            "35/35 - 2s - loss: 0.0133 - accuracy: 0.4236 - val_loss: 0.0112 - val_accuracy: 0.4276 - 2s/epoch - 64ms/step\n",
            "Epoch 19/150\n",
            "35/35 - 2s - loss: 0.0128 - accuracy: 0.4236 - val_loss: 0.0108 - val_accuracy: 0.4277 - 2s/epoch - 64ms/step\n",
            "Epoch 20/150\n",
            "35/35 - 2s - loss: 0.0122 - accuracy: 0.4236 - val_loss: 0.0104 - val_accuracy: 0.4278 - 2s/epoch - 64ms/step\n",
            "Epoch 21/150\n",
            "35/35 - 2s - loss: 0.0118 - accuracy: 0.4238 - val_loss: 0.0100 - val_accuracy: 0.4278 - 2s/epoch - 63ms/step\n",
            "Epoch 22/150\n",
            "35/35 - 2s - loss: 0.0115 - accuracy: 0.4238 - val_loss: 0.0096 - val_accuracy: 0.4279 - 2s/epoch - 64ms/step\n",
            "Epoch 23/150\n",
            "35/35 - 2s - loss: 0.0113 - accuracy: 0.4239 - val_loss: 0.0093 - val_accuracy: 0.4279 - 2s/epoch - 63ms/step\n",
            "Epoch 24/150\n",
            "35/35 - 2s - loss: 0.0108 - accuracy: 0.4240 - val_loss: 0.0090 - val_accuracy: 0.4279 - 2s/epoch - 64ms/step\n",
            "Epoch 25/150\n",
            "35/35 - 2s - loss: 0.0107 - accuracy: 0.4240 - val_loss: 0.0088 - val_accuracy: 0.4280 - 2s/epoch - 64ms/step\n",
            "Epoch 26/150\n",
            "35/35 - 2s - loss: 0.0105 - accuracy: 0.4241 - val_loss: 0.0086 - val_accuracy: 0.4280 - 2s/epoch - 63ms/step\n",
            "Epoch 27/150\n",
            "35/35 - 2s - loss: 0.0102 - accuracy: 0.4241 - val_loss: 0.0084 - val_accuracy: 0.4280 - 2s/epoch - 64ms/step\n",
            "Epoch 28/150\n",
            "35/35 - 2s - loss: 0.0099 - accuracy: 0.4241 - val_loss: 0.0082 - val_accuracy: 0.4280 - 2s/epoch - 63ms/step\n",
            "Epoch 29/150\n",
            "35/35 - 2s - loss: 0.0097 - accuracy: 0.4241 - val_loss: 0.0079 - val_accuracy: 0.4281 - 2s/epoch - 63ms/step\n",
            "Epoch 30/150\n",
            "35/35 - 2s - loss: 0.0096 - accuracy: 0.4242 - val_loss: 0.0078 - val_accuracy: 0.4281 - 2s/epoch - 64ms/step\n",
            "Epoch 31/150\n",
            "35/35 - 2s - loss: 0.0092 - accuracy: 0.4242 - val_loss: 0.0076 - val_accuracy: 0.4281 - 2s/epoch - 64ms/step\n",
            "Epoch 32/150\n",
            "35/35 - 3s - loss: 0.0093 - accuracy: 0.4242 - val_loss: 0.0075 - val_accuracy: 0.4281 - 3s/epoch - 72ms/step\n",
            "Epoch 33/150\n",
            "35/35 - 3s - loss: 0.0090 - accuracy: 0.4243 - val_loss: 0.0073 - val_accuracy: 0.4281 - 3s/epoch - 94ms/step\n",
            "Epoch 34/150\n",
            "35/35 - 2s - loss: 0.0088 - accuracy: 0.4243 - val_loss: 0.0071 - val_accuracy: 0.4281 - 2s/epoch - 64ms/step\n",
            "Epoch 35/150\n",
            "35/35 - 2s - loss: 0.0087 - accuracy: 0.4243 - val_loss: 0.0071 - val_accuracy: 0.4281 - 2s/epoch - 63ms/step\n",
            "Epoch 36/150\n",
            "35/35 - 2s - loss: 0.0087 - accuracy: 0.4243 - val_loss: 0.0069 - val_accuracy: 0.4281 - 2s/epoch - 64ms/step\n",
            "Epoch 37/150\n",
            "35/35 - 2s - loss: 0.0085 - accuracy: 0.4243 - val_loss: 0.0067 - val_accuracy: 0.4282 - 2s/epoch - 63ms/step\n",
            "Epoch 38/150\n",
            "35/35 - 2s - loss: 0.0085 - accuracy: 0.4243 - val_loss: 0.0067 - val_accuracy: 0.4281 - 2s/epoch - 65ms/step\n",
            "Epoch 39/150\n",
            "35/35 - 2s - loss: 0.0082 - accuracy: 0.4244 - val_loss: 0.0066 - val_accuracy: 0.4282 - 2s/epoch - 64ms/step\n",
            "Epoch 40/150\n",
            "35/35 - 2s - loss: 0.0081 - accuracy: 0.4244 - val_loss: 0.0065 - val_accuracy: 0.4282 - 2s/epoch - 63ms/step\n",
            "Epoch 41/150\n",
            "35/35 - 2s - loss: 0.0081 - accuracy: 0.4244 - val_loss: 0.0064 - val_accuracy: 0.4282 - 2s/epoch - 63ms/step\n",
            "Epoch 42/150\n",
            "35/35 - 2s - loss: 0.0081 - accuracy: 0.4244 - val_loss: 0.0063 - val_accuracy: 0.4282 - 2s/epoch - 63ms/step\n",
            "Epoch 43/150\n",
            "35/35 - 2s - loss: 0.0079 - accuracy: 0.4244 - val_loss: 0.0063 - val_accuracy: 0.4282 - 2s/epoch - 64ms/step\n",
            "Epoch 44/150\n",
            "35/35 - 2s - loss: 0.0078 - accuracy: 0.4244 - val_loss: 0.0061 - val_accuracy: 0.4282 - 2s/epoch - 63ms/step\n",
            "Epoch 45/150\n",
            "35/35 - 2s - loss: 0.0077 - accuracy: 0.4244 - val_loss: 0.0060 - val_accuracy: 0.4282 - 2s/epoch - 63ms/step\n",
            "Epoch 46/150\n",
            "35/35 - 2s - loss: 0.0076 - accuracy: 0.4245 - val_loss: 0.0059 - val_accuracy: 0.4282 - 2s/epoch - 63ms/step\n",
            "Epoch 47/150\n",
            "35/35 - 2s - loss: 0.0075 - accuracy: 0.4245 - val_loss: 0.0059 - val_accuracy: 0.4282 - 2s/epoch - 64ms/step\n",
            "Epoch 48/150\n",
            "35/35 - 2s - loss: 0.0074 - accuracy: 0.4245 - val_loss: 0.0058 - val_accuracy: 0.4282 - 2s/epoch - 64ms/step\n",
            "Epoch 49/150\n",
            "35/35 - 2s - loss: 0.0073 - accuracy: 0.4245 - val_loss: 0.0058 - val_accuracy: 0.4282 - 2s/epoch - 65ms/step\n",
            "Epoch 50/150\n",
            "35/35 - 4s - loss: 0.0074 - accuracy: 0.4245 - val_loss: 0.0058 - val_accuracy: 0.4282 - 4s/epoch - 101ms/step\n",
            "Epoch 51/150\n",
            "35/35 - 2s - loss: 0.0073 - accuracy: 0.4245 - val_loss: 0.0056 - val_accuracy: 0.4282 - 2s/epoch - 64ms/step\n",
            "Epoch 52/150\n",
            "35/35 - 2s - loss: 0.0071 - accuracy: 0.4245 - val_loss: 0.0055 - val_accuracy: 0.4282 - 2s/epoch - 63ms/step\n",
            "Epoch 53/150\n",
            "35/35 - 2s - loss: 0.0070 - accuracy: 0.4245 - val_loss: 0.0055 - val_accuracy: 0.4282 - 2s/epoch - 63ms/step\n",
            "Epoch 54/150\n",
            "35/35 - 2s - loss: 0.0071 - accuracy: 0.4245 - val_loss: 0.0054 - val_accuracy: 0.4282 - 2s/epoch - 64ms/step\n",
            "Epoch 55/150\n",
            "35/35 - 2s - loss: 0.0070 - accuracy: 0.4245 - val_loss: 0.0053 - val_accuracy: 0.4282 - 2s/epoch - 64ms/step\n",
            "Epoch 56/150\n",
            "35/35 - 2s - loss: 0.0070 - accuracy: 0.4245 - val_loss: 0.0053 - val_accuracy: 0.4282 - 2s/epoch - 64ms/step\n",
            "Epoch 57/150\n",
            "35/35 - 2s - loss: 0.0069 - accuracy: 0.4245 - val_loss: 0.0053 - val_accuracy: 0.4282 - 2s/epoch - 63ms/step\n",
            "Epoch 58/150\n",
            "35/35 - 2s - loss: 0.0068 - accuracy: 0.4245 - val_loss: 0.0052 - val_accuracy: 0.4282 - 2s/epoch - 63ms/step\n",
            "Epoch 59/150\n"
          ]
        },
        {
          "output_type": "error",
          "ename": "KeyboardInterrupt",
          "evalue": "ignored",
          "traceback": [
            "\u001b[0;31m---------------------------------------------------------------------------\u001b[0m",
            "\u001b[0;31mKeyboardInterrupt\u001b[0m                         Traceback (most recent call last)",
            "\u001b[0;32m<ipython-input-93-91c807e83c09>\u001b[0m in \u001b[0;36m<module>\u001b[0;34m\u001b[0m\n\u001b[0;32m----> 1\u001b[0;31m \u001b[0mtrain_generator\u001b[0m\u001b[0;34m(\u001b[0m\u001b[0mgenerator\u001b[0m\u001b[0;34m,\u001b[0m\u001b[0mx\u001b[0m\u001b[0;34m,\u001b[0m\u001b[0my\u001b[0m\u001b[0;34m,\u001b[0m\u001b[0mX_valid\u001b[0m\u001b[0;34m,\u001b[0m\u001b[0mY_valid\u001b[0m\u001b[0;34m,\u001b[0m\u001b[0;36m0.0001\u001b[0m\u001b[0;34m,\u001b[0m\u001b[0;36m10\u001b[0m\u001b[0;34m,\u001b[0m\u001b[0;36m150\u001b[0m\u001b[0;34m)\u001b[0m\u001b[0;34m\u001b[0m\u001b[0;34m\u001b[0m\u001b[0m\n\u001b[0m",
            "\u001b[0;32m<ipython-input-91-459b73f9ce1f>\u001b[0m in \u001b[0;36mtrain_generator\u001b[0;34m(generator, X, Y, X_valid, Y_valid, learning_rate, batch_size, epochs)\u001b[0m\n\u001b[1;32m      1\u001b[0m \u001b[0;32mdef\u001b[0m \u001b[0mtrain_generator\u001b[0m\u001b[0;34m(\u001b[0m\u001b[0mgenerator\u001b[0m\u001b[0;34m,\u001b[0m \u001b[0mX\u001b[0m\u001b[0;34m,\u001b[0m \u001b[0mY\u001b[0m\u001b[0;34m,\u001b[0m \u001b[0mX_valid\u001b[0m\u001b[0;34m,\u001b[0m \u001b[0mY_valid\u001b[0m\u001b[0;34m,\u001b[0m \u001b[0mlearning_rate\u001b[0m\u001b[0;34m,\u001b[0m \u001b[0mbatch_size\u001b[0m\u001b[0;34m,\u001b[0m \u001b[0mepochs\u001b[0m\u001b[0;34m)\u001b[0m\u001b[0;34m:\u001b[0m\u001b[0;34m\u001b[0m\u001b[0;34m\u001b[0m\u001b[0m\n\u001b[1;32m      2\u001b[0m   \u001b[0mgenerator\u001b[0m\u001b[0;34m.\u001b[0m\u001b[0mcompile\u001b[0m\u001b[0;34m(\u001b[0m\u001b[0mloss\u001b[0m\u001b[0;34m=\u001b[0m\u001b[0mtf\u001b[0m\u001b[0;34m.\u001b[0m\u001b[0mkeras\u001b[0m\u001b[0;34m.\u001b[0m\u001b[0mlosses\u001b[0m\u001b[0;34m.\u001b[0m\u001b[0mMeanSquaredError\u001b[0m\u001b[0;34m(\u001b[0m\u001b[0;34m)\u001b[0m\u001b[0;34m,\u001b[0m\u001b[0moptimizer\u001b[0m\u001b[0;34m=\u001b[0m\u001b[0mkeras\u001b[0m\u001b[0;34m.\u001b[0m\u001b[0moptimizers\u001b[0m\u001b[0;34m.\u001b[0m\u001b[0mAdam\u001b[0m\u001b[0;34m(\u001b[0m\u001b[0mlr\u001b[0m\u001b[0;34m=\u001b[0m\u001b[0mlearning_rate\u001b[0m\u001b[0;34m)\u001b[0m\u001b[0;34m,\u001b[0m\u001b[0mmetrics\u001b[0m\u001b[0;34m=\u001b[0m\u001b[0;34m[\u001b[0m\u001b[0;34m'accuracy'\u001b[0m\u001b[0;34m]\u001b[0m\u001b[0;34m)\u001b[0m\u001b[0;34m\u001b[0m\u001b[0;34m\u001b[0m\u001b[0m\n\u001b[0;32m----> 3\u001b[0;31m   \u001b[0mgenerator\u001b[0m\u001b[0;34m.\u001b[0m\u001b[0mfit\u001b[0m\u001b[0;34m(\u001b[0m\u001b[0mX\u001b[0m\u001b[0;34m,\u001b[0m\u001b[0mY\u001b[0m\u001b[0;34m,\u001b[0m\u001b[0mbatch_size\u001b[0m\u001b[0;34m=\u001b[0m\u001b[0mbatch_size\u001b[0m\u001b[0;34m,\u001b[0m\u001b[0mepochs\u001b[0m\u001b[0;34m=\u001b[0m\u001b[0mepochs\u001b[0m\u001b[0;34m,\u001b[0m\u001b[0mverbose\u001b[0m\u001b[0;34m=\u001b[0m\u001b[0;36m2\u001b[0m\u001b[0;34m,\u001b[0m\u001b[0mvalidation_data\u001b[0m\u001b[0;34m=\u001b[0m\u001b[0;34m(\u001b[0m\u001b[0mX_valid\u001b[0m\u001b[0;34m,\u001b[0m\u001b[0mY_valid\u001b[0m\u001b[0;34m)\u001b[0m\u001b[0;34m,\u001b[0m\u001b[0mshuffle\u001b[0m\u001b[0;34m=\u001b[0m \u001b[0;32mTrue\u001b[0m\u001b[0;34m)\u001b[0m\u001b[0;34m\u001b[0m\u001b[0;34m\u001b[0m\u001b[0m\n\u001b[0m",
            "\u001b[0;32m/usr/local/lib/python3.7/dist-packages/keras/utils/traceback_utils.py\u001b[0m in \u001b[0;36merror_handler\u001b[0;34m(*args, **kwargs)\u001b[0m\n\u001b[1;32m     62\u001b[0m     \u001b[0mfiltered_tb\u001b[0m \u001b[0;34m=\u001b[0m \u001b[0;32mNone\u001b[0m\u001b[0;34m\u001b[0m\u001b[0;34m\u001b[0m\u001b[0m\n\u001b[1;32m     63\u001b[0m     \u001b[0;32mtry\u001b[0m\u001b[0;34m:\u001b[0m\u001b[0;34m\u001b[0m\u001b[0;34m\u001b[0m\u001b[0m\n\u001b[0;32m---> 64\u001b[0;31m       \u001b[0;32mreturn\u001b[0m \u001b[0mfn\u001b[0m\u001b[0;34m(\u001b[0m\u001b[0;34m*\u001b[0m\u001b[0margs\u001b[0m\u001b[0;34m,\u001b[0m \u001b[0;34m**\u001b[0m\u001b[0mkwargs\u001b[0m\u001b[0;34m)\u001b[0m\u001b[0;34m\u001b[0m\u001b[0;34m\u001b[0m\u001b[0m\n\u001b[0m\u001b[1;32m     65\u001b[0m     \u001b[0;32mexcept\u001b[0m \u001b[0mException\u001b[0m \u001b[0;32mas\u001b[0m \u001b[0me\u001b[0m\u001b[0;34m:\u001b[0m  \u001b[0;31m# pylint: disable=broad-except\u001b[0m\u001b[0;34m\u001b[0m\u001b[0;34m\u001b[0m\u001b[0m\n\u001b[1;32m     66\u001b[0m       \u001b[0mfiltered_tb\u001b[0m \u001b[0;34m=\u001b[0m \u001b[0m_process_traceback_frames\u001b[0m\u001b[0;34m(\u001b[0m\u001b[0me\u001b[0m\u001b[0;34m.\u001b[0m\u001b[0m__traceback__\u001b[0m\u001b[0;34m)\u001b[0m\u001b[0;34m\u001b[0m\u001b[0;34m\u001b[0m\u001b[0m\n",
            "\u001b[0;32m/usr/local/lib/python3.7/dist-packages/keras/engine/training.py\u001b[0m in \u001b[0;36mfit\u001b[0;34m(self, x, y, batch_size, epochs, verbose, callbacks, validation_split, validation_data, shuffle, class_weight, sample_weight, initial_epoch, steps_per_epoch, validation_steps, validation_batch_size, validation_freq, max_queue_size, workers, use_multiprocessing)\u001b[0m\n\u001b[1;32m   1407\u001b[0m                 _r=1):\n\u001b[1;32m   1408\u001b[0m               \u001b[0mcallbacks\u001b[0m\u001b[0;34m.\u001b[0m\u001b[0mon_train_batch_begin\u001b[0m\u001b[0;34m(\u001b[0m\u001b[0mstep\u001b[0m\u001b[0;34m)\u001b[0m\u001b[0;34m\u001b[0m\u001b[0;34m\u001b[0m\u001b[0m\n\u001b[0;32m-> 1409\u001b[0;31m               \u001b[0mtmp_logs\u001b[0m \u001b[0;34m=\u001b[0m \u001b[0mself\u001b[0m\u001b[0;34m.\u001b[0m\u001b[0mtrain_function\u001b[0m\u001b[0;34m(\u001b[0m\u001b[0miterator\u001b[0m\u001b[0;34m)\u001b[0m\u001b[0;34m\u001b[0m\u001b[0;34m\u001b[0m\u001b[0m\n\u001b[0m\u001b[1;32m   1410\u001b[0m               \u001b[0;32mif\u001b[0m \u001b[0mdata_handler\u001b[0m\u001b[0;34m.\u001b[0m\u001b[0mshould_sync\u001b[0m\u001b[0;34m:\u001b[0m\u001b[0;34m\u001b[0m\u001b[0;34m\u001b[0m\u001b[0m\n\u001b[1;32m   1411\u001b[0m                 \u001b[0mcontext\u001b[0m\u001b[0;34m.\u001b[0m\u001b[0masync_wait\u001b[0m\u001b[0;34m(\u001b[0m\u001b[0;34m)\u001b[0m\u001b[0;34m\u001b[0m\u001b[0;34m\u001b[0m\u001b[0m\n",
            "\u001b[0;32m/usr/local/lib/python3.7/dist-packages/tensorflow/python/util/traceback_utils.py\u001b[0m in \u001b[0;36merror_handler\u001b[0;34m(*args, **kwargs)\u001b[0m\n\u001b[1;32m    148\u001b[0m     \u001b[0mfiltered_tb\u001b[0m \u001b[0;34m=\u001b[0m \u001b[0;32mNone\u001b[0m\u001b[0;34m\u001b[0m\u001b[0;34m\u001b[0m\u001b[0m\n\u001b[1;32m    149\u001b[0m     \u001b[0;32mtry\u001b[0m\u001b[0;34m:\u001b[0m\u001b[0;34m\u001b[0m\u001b[0;34m\u001b[0m\u001b[0m\n\u001b[0;32m--> 150\u001b[0;31m       \u001b[0;32mreturn\u001b[0m \u001b[0mfn\u001b[0m\u001b[0;34m(\u001b[0m\u001b[0;34m*\u001b[0m\u001b[0margs\u001b[0m\u001b[0;34m,\u001b[0m \u001b[0;34m**\u001b[0m\u001b[0mkwargs\u001b[0m\u001b[0;34m)\u001b[0m\u001b[0;34m\u001b[0m\u001b[0;34m\u001b[0m\u001b[0m\n\u001b[0m\u001b[1;32m    151\u001b[0m     \u001b[0;32mexcept\u001b[0m \u001b[0mException\u001b[0m \u001b[0;32mas\u001b[0m \u001b[0me\u001b[0m\u001b[0;34m:\u001b[0m\u001b[0;34m\u001b[0m\u001b[0;34m\u001b[0m\u001b[0m\n\u001b[1;32m    152\u001b[0m       \u001b[0mfiltered_tb\u001b[0m \u001b[0;34m=\u001b[0m \u001b[0m_process_traceback_frames\u001b[0m\u001b[0;34m(\u001b[0m\u001b[0me\u001b[0m\u001b[0;34m.\u001b[0m\u001b[0m__traceback__\u001b[0m\u001b[0;34m)\u001b[0m\u001b[0;34m\u001b[0m\u001b[0;34m\u001b[0m\u001b[0m\n",
            "\u001b[0;32m/usr/local/lib/python3.7/dist-packages/tensorflow/python/eager/def_function.py\u001b[0m in \u001b[0;36m__call__\u001b[0;34m(self, *args, **kwds)\u001b[0m\n\u001b[1;32m    913\u001b[0m \u001b[0;34m\u001b[0m\u001b[0m\n\u001b[1;32m    914\u001b[0m       \u001b[0;32mwith\u001b[0m \u001b[0mOptionalXlaContext\u001b[0m\u001b[0;34m(\u001b[0m\u001b[0mself\u001b[0m\u001b[0;34m.\u001b[0m\u001b[0m_jit_compile\u001b[0m\u001b[0;34m)\u001b[0m\u001b[0;34m:\u001b[0m\u001b[0;34m\u001b[0m\u001b[0;34m\u001b[0m\u001b[0m\n\u001b[0;32m--> 915\u001b[0;31m         \u001b[0mresult\u001b[0m \u001b[0;34m=\u001b[0m \u001b[0mself\u001b[0m\u001b[0;34m.\u001b[0m\u001b[0m_call\u001b[0m\u001b[0;34m(\u001b[0m\u001b[0;34m*\u001b[0m\u001b[0margs\u001b[0m\u001b[0;34m,\u001b[0m \u001b[0;34m**\u001b[0m\u001b[0mkwds\u001b[0m\u001b[0;34m)\u001b[0m\u001b[0;34m\u001b[0m\u001b[0;34m\u001b[0m\u001b[0m\n\u001b[0m\u001b[1;32m    916\u001b[0m \u001b[0;34m\u001b[0m\u001b[0m\n\u001b[1;32m    917\u001b[0m       \u001b[0mnew_tracing_count\u001b[0m \u001b[0;34m=\u001b[0m \u001b[0mself\u001b[0m\u001b[0;34m.\u001b[0m\u001b[0mexperimental_get_tracing_count\u001b[0m\u001b[0;34m(\u001b[0m\u001b[0;34m)\u001b[0m\u001b[0;34m\u001b[0m\u001b[0;34m\u001b[0m\u001b[0m\n",
            "\u001b[0;32m/usr/local/lib/python3.7/dist-packages/tensorflow/python/eager/def_function.py\u001b[0m in \u001b[0;36m_call\u001b[0;34m(self, *args, **kwds)\u001b[0m\n\u001b[1;32m    945\u001b[0m       \u001b[0;31m# In this case we have created variables on the first call, so we run the\u001b[0m\u001b[0;34m\u001b[0m\u001b[0;34m\u001b[0m\u001b[0;34m\u001b[0m\u001b[0m\n\u001b[1;32m    946\u001b[0m       \u001b[0;31m# defunned version which is guaranteed to never create variables.\u001b[0m\u001b[0;34m\u001b[0m\u001b[0;34m\u001b[0m\u001b[0;34m\u001b[0m\u001b[0m\n\u001b[0;32m--> 947\u001b[0;31m       \u001b[0;32mreturn\u001b[0m \u001b[0mself\u001b[0m\u001b[0;34m.\u001b[0m\u001b[0m_stateless_fn\u001b[0m\u001b[0;34m(\u001b[0m\u001b[0;34m*\u001b[0m\u001b[0margs\u001b[0m\u001b[0;34m,\u001b[0m \u001b[0;34m**\u001b[0m\u001b[0mkwds\u001b[0m\u001b[0;34m)\u001b[0m  \u001b[0;31m# pylint: disable=not-callable\u001b[0m\u001b[0;34m\u001b[0m\u001b[0;34m\u001b[0m\u001b[0m\n\u001b[0m\u001b[1;32m    948\u001b[0m     \u001b[0;32melif\u001b[0m \u001b[0mself\u001b[0m\u001b[0;34m.\u001b[0m\u001b[0m_stateful_fn\u001b[0m \u001b[0;32mis\u001b[0m \u001b[0;32mnot\u001b[0m \u001b[0;32mNone\u001b[0m\u001b[0;34m:\u001b[0m\u001b[0;34m\u001b[0m\u001b[0;34m\u001b[0m\u001b[0m\n\u001b[1;32m    949\u001b[0m       \u001b[0;31m# Release the lock early so that multiple threads can perform the call\u001b[0m\u001b[0;34m\u001b[0m\u001b[0;34m\u001b[0m\u001b[0;34m\u001b[0m\u001b[0m\n",
            "\u001b[0;32m/usr/local/lib/python3.7/dist-packages/tensorflow/python/eager/function.py\u001b[0m in \u001b[0;36m__call__\u001b[0;34m(self, *args, **kwargs)\u001b[0m\n\u001b[1;32m   2452\u001b[0m        filtered_flat_args) = self._maybe_define_function(args, kwargs)\n\u001b[1;32m   2453\u001b[0m     return graph_function._call_flat(\n\u001b[0;32m-> 2454\u001b[0;31m         filtered_flat_args, captured_inputs=graph_function.captured_inputs)  # pylint: disable=protected-access\n\u001b[0m\u001b[1;32m   2455\u001b[0m \u001b[0;34m\u001b[0m\u001b[0m\n\u001b[1;32m   2456\u001b[0m   \u001b[0;34m@\u001b[0m\u001b[0mproperty\u001b[0m\u001b[0;34m\u001b[0m\u001b[0;34m\u001b[0m\u001b[0m\n",
            "\u001b[0;32m/usr/local/lib/python3.7/dist-packages/tensorflow/python/eager/function.py\u001b[0m in \u001b[0;36m_call_flat\u001b[0;34m(self, args, captured_inputs, cancellation_manager)\u001b[0m\n\u001b[1;32m   1859\u001b[0m       \u001b[0;31m# No tape is watching; skip to running the function.\u001b[0m\u001b[0;34m\u001b[0m\u001b[0;34m\u001b[0m\u001b[0;34m\u001b[0m\u001b[0m\n\u001b[1;32m   1860\u001b[0m       return self._build_call_outputs(self._inference_function.call(\n\u001b[0;32m-> 1861\u001b[0;31m           ctx, args, cancellation_manager=cancellation_manager))\n\u001b[0m\u001b[1;32m   1862\u001b[0m     forward_backward = self._select_forward_and_backward_functions(\n\u001b[1;32m   1863\u001b[0m         \u001b[0margs\u001b[0m\u001b[0;34m,\u001b[0m\u001b[0;34m\u001b[0m\u001b[0;34m\u001b[0m\u001b[0m\n",
            "\u001b[0;32m/usr/local/lib/python3.7/dist-packages/tensorflow/python/eager/function.py\u001b[0m in \u001b[0;36mcall\u001b[0;34m(self, ctx, args, cancellation_manager)\u001b[0m\n\u001b[1;32m    500\u001b[0m               \u001b[0minputs\u001b[0m\u001b[0;34m=\u001b[0m\u001b[0margs\u001b[0m\u001b[0;34m,\u001b[0m\u001b[0;34m\u001b[0m\u001b[0;34m\u001b[0m\u001b[0m\n\u001b[1;32m    501\u001b[0m               \u001b[0mattrs\u001b[0m\u001b[0;34m=\u001b[0m\u001b[0mattrs\u001b[0m\u001b[0;34m,\u001b[0m\u001b[0;34m\u001b[0m\u001b[0;34m\u001b[0m\u001b[0m\n\u001b[0;32m--> 502\u001b[0;31m               ctx=ctx)\n\u001b[0m\u001b[1;32m    503\u001b[0m         \u001b[0;32melse\u001b[0m\u001b[0;34m:\u001b[0m\u001b[0;34m\u001b[0m\u001b[0;34m\u001b[0m\u001b[0m\n\u001b[1;32m    504\u001b[0m           outputs = execute.execute_with_cancellation(\n",
            "\u001b[0;32m/usr/local/lib/python3.7/dist-packages/tensorflow/python/eager/execute.py\u001b[0m in \u001b[0;36mquick_execute\u001b[0;34m(op_name, num_outputs, inputs, attrs, ctx, name)\u001b[0m\n\u001b[1;32m     53\u001b[0m     \u001b[0mctx\u001b[0m\u001b[0;34m.\u001b[0m\u001b[0mensure_initialized\u001b[0m\u001b[0;34m(\u001b[0m\u001b[0;34m)\u001b[0m\u001b[0;34m\u001b[0m\u001b[0;34m\u001b[0m\u001b[0m\n\u001b[1;32m     54\u001b[0m     tensors = pywrap_tfe.TFE_Py_Execute(ctx._handle, device_name, op_name,\n\u001b[0;32m---> 55\u001b[0;31m                                         inputs, attrs, num_outputs)\n\u001b[0m\u001b[1;32m     56\u001b[0m   \u001b[0;32mexcept\u001b[0m \u001b[0mcore\u001b[0m\u001b[0;34m.\u001b[0m\u001b[0m_NotOkStatusException\u001b[0m \u001b[0;32mas\u001b[0m \u001b[0me\u001b[0m\u001b[0;34m:\u001b[0m\u001b[0;34m\u001b[0m\u001b[0;34m\u001b[0m\u001b[0m\n\u001b[1;32m     57\u001b[0m     \u001b[0;32mif\u001b[0m \u001b[0mname\u001b[0m \u001b[0;32mis\u001b[0m \u001b[0;32mnot\u001b[0m \u001b[0;32mNone\u001b[0m\u001b[0;34m:\u001b[0m\u001b[0;34m\u001b[0m\u001b[0;34m\u001b[0m\u001b[0m\n",
            "\u001b[0;31mKeyboardInterrupt\u001b[0m: "
          ]
        }
      ],
      "source": [
        "train_generator(generator,x,y,X_valid,Y_valid,0.0001,10,150)"
      ]
    },
    {
      "cell_type": "code",
      "source": [
        "import math\n",
        "mse = tf.keras.losses.MeanSquaredError()\n",
        "def PSNR(upscaled, original):\n",
        "    return 10*math.log(1/mse(original, upscaled).numpy())"
      ],
      "metadata": {
        "id": "z3pLO2NcWeMx"
      },
      "execution_count": 87,
      "outputs": []
    },
    {
      "cell_type": "code",
      "execution_count": 94,
      "metadata": {
        "colab": {
          "base_uri": "https://localhost:8080/",
          "height": 285
        },
        "id": "TFxnjxl32yYY",
        "outputId": "2052f812-e507-4cdb-9eb2-98efd477203e"
      },
      "outputs": [
        {
          "output_type": "execute_result",
          "data": {
            "text/plain": [
              "18.387846681465675"
            ]
          },
          "metadata": {},
          "execution_count": 94
        },
        {
          "output_type": "display_data",
          "data": {
            "text/plain": [
              "<Figure size 432x288 with 1 Axes>"
            ],
            "image/png": "[encoded data removed]"
          },
          "metadata": {
            "needs_background": "light"
          }
        }
      ],
      "source": [
        "\n",
        "generated_image = generator(x, training=False)\n",
        "plt.imsave('generated.png',generated_image[0,:,:,0])\n",
        "img=plt.imread('generated.png')\n",
        "plt.imshow(img[:,:,1], cmap='gray')\n",
        "PSNR(y[0,:,:],img[:,:,1])\n"
      ]
    }
  ],
  "metadata": {
    "colab": {
      "provenance": [],
      "include_colab_link": true
    },
    "kernelspec": {
      "display_name": "Python 3.10.7 64-bit",
      "language": "python",
      "name": "python3"
    },
    "language_info": {
      "codemirror_mode": {
        "name": "ipython",
        "version": 3
      },
      "file_extension": ".py",
      "mimetype": "text/x-python",
      "name": "python",
      "nbconvert_exporter": "python",
      "pygments_lexer": "ipython3",
      "version": "3.10.7"
    },
    "vscode": {
      "interpreter": {
        "hash": "26de051ba29f2982a8de78e945f0abaf191376122a1563185a90213a26c5da77"
      }
    }
  },
  "nbformat": 4,
  "nbformat_minor": 0
}